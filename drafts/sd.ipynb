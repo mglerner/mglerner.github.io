{
 "cells": [
  {
   "cell_type": "markdown",
   "metadata": {},
   "source": [
    "Write your post here."
   ]
  }
 ],
 "metadata": {
  "kernelspec": {
   "display_name": "Python 3",
   "env": {},
   "interrupt_mode": "signal",
   "language": "python",
   "metadata": {},
   "name": "python3"
  },
  "nikola": {
   "category": "",
   "date": "2020-03-20 20:12:03 UTC",
   "description": "",
   "link": "",
   "slug": "social-distancing-and-hospital-capacity-for-coronavirus",
   "tags": "",
   "title": "Social Distancing and Hospital Capacity for Coronavirus",
   "type": "text"
  }
 },
 "nbformat": 4,
 "nbformat_minor": 2
}
